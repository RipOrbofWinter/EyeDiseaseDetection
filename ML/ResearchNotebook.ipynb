{
 "cells": [
  {
   "cell_type": "markdown",
   "id": "d5c90be9-25e7-4197-9f4d-a772631feaf9",
   "metadata": {},
   "source": [
    "# Eye Disease Detection\n",
    "## Document Introduction\n",
    "### Project goal\n",
    "Using Machine Learning compare eye images and try to catagorize if there are diseases present.\n",
    "Diffrent data sets that can be used are found below.\n",
    "Most of these use Fundus photgraphy that are taken with a machine that is availble in stores other then hospitals.\n",
    "https://en.wikipedia.org/wiki/Fundus_photography\n",
    "### Data links:\n",
    "https://www.kaggle.com/donkeys/retinopathy-train-2015?select=trainLabels.csv\n",
    "https://www.kaggle.com/andrewmvd/ocular-disease-recognition-odir5k\n",
    "https://www.kaggle.com/paultimothymooney/kermany2018\n",
    "https://www.kaggle.com/sshikamaru/glaucoma-detection\n",
    "\n"
   ]
  },
  {
   "cell_type": "code",
   "execution_count": null,
   "id": "9213e019-1a93-4ca5-b7e8-f526d9143173",
   "metadata": {},
   "outputs": [],
   "source": []
  }
 ],
 "metadata": {
  "kernelspec": {
   "display_name": "Python 3 (ipykernel)",
   "language": "python",
   "name": "python3"
  },
  "language_info": {
   "codemirror_mode": {
    "name": "ipython",
    "version": 3
   },
   "file_extension": ".py",
   "mimetype": "text/x-python",
   "name": "python",
   "nbconvert_exporter": "python",
   "pygments_lexer": "ipython3",
   "version": "3.9.7"
  }
 },
 "nbformat": 4,
 "nbformat_minor": 5
}
