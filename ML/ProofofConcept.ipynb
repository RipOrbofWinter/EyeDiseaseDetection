{
 "cells": [
  {
   "cell_type": "markdown",
   "metadata": {},
   "source": [
    "# Proof of concept\n",
    "Tutorial on tensorflow https://pythoncursus.nl/image-recognition-python/#wat-is-tensorflow "
   ]
  },
  {
   "cell_type": "code",
<<<<<<< Updated upstream
   "execution_count": null,
=======
   "execution_count": 2,
>>>>>>> Stashed changes
   "metadata": {},
   "outputs": [],
   "source": [
    "import pandas as pd\n",
    "import numpy as np\n",
    "from tensorflow import keras\n",
    "import matplotlib.pyplot as plt\n"
   ]
  },
  {
   "cell_type": "markdown",
   "metadata": {},
   "source": [
    "## Data cleaning\n",
    "Import data"
   ]
  },
  {
   "cell_type": "code",
<<<<<<< Updated upstream
   "execution_count": null,
=======
   "execution_count": 3,
>>>>>>> Stashed changes
   "metadata": {},
   "outputs": [
    {
     "name": "stdout",
     "output_type": "stream",
     "text": [
      "Train images: 60000\n",
      "Test images: 10000\n"
     ]
    }
   ],
   "source": [
    "dataset_fashion = keras.datasets.fashion_mnist\n",
    "\n",
    "(train_images, train_labels), (test_images, test_labels) = dataset_fashion.load_data()\n",
    "\n",
    "print(\"Train images:\", len(train_images))\n",
    "print(\"Test images:\", len(test_images))"
   ]
  },
  {
   "cell_type": "code",
<<<<<<< Updated upstream
   "execution_count": null,
=======
   "execution_count": 6,
   "metadata": {},
   "outputs": [
    {
     "data": {
      "text/plain": [
       "array([9, 0, 0, ..., 3, 0, 5], dtype=uint8)"
      ]
     },
     "execution_count": 6,
     "metadata": {},
     "output_type": "execute_result"
    }
   ],
   "source": [
    "train_labels"
   ]
  },
  {
   "cell_type": "code",
   "execution_count": 4,
>>>>>>> Stashed changes
   "metadata": {},
   "outputs": [
    {
     "name": "stdout",
     "output_type": "stream",
     "text": [
      "(28, 28)\n"
     ]
    },
    {
     "data": {
      "text/plain": [
       "array([[  0,   0,   0,   0,   0,   1,   0,   0,   0,   0,  41, 188, 103,\n",
       "         54,  48,  43,  87, 168, 133,  16,   0,   0,   0,   0,   0,   0,\n",
       "          0,   0],\n",
       "       [  0,   0,   0,   1,   0,   0,   0,  49, 136, 219, 216, 228, 236,\n",
       "        255, 255, 255, 255, 217, 215, 254, 231, 160,  45,   0,   0,   0,\n",
       "          0,   0],\n",
       "       [  0,   0,   0,   0,   0,  14, 176, 222, 224, 212, 203, 198, 196,\n",
       "        200, 215, 204, 202, 201, 201, 201, 209, 218, 224, 164,   0,   0,\n",
       "          0,   0],\n",
       "       [  0,   0,   0,   0,   0, 188, 219, 200, 198, 202, 198, 199, 199,\n",
       "        201, 196, 198, 198, 200, 200, 200, 200, 201, 200, 225,  41,   0,\n",
       "          0,   0],\n",
       "       [  0,   0,   0,   0,  51, 219, 199, 203, 203, 212, 238, 248, 250,\n",
       "        245, 249, 246, 247, 252, 248, 235, 207, 203, 203, 222, 140,   0,\n",
       "          0,   0],\n",
       "       [  0,   0,   0,   0, 116, 226, 206, 204, 207, 204, 101,  75,  47,\n",
       "         73,  48,  50,  45,  51,  63, 113, 222, 202, 206, 220, 224,   0,\n",
       "          0,   0],\n",
       "       [  0,   0,   0,   0, 200, 222, 209, 203, 215, 200,   0,  70,  98,\n",
       "          0, 103,  59,  68,  71,  49,   0, 219, 206, 214, 210, 250,  38,\n",
       "          0,   0],\n",
       "       [  0,   0,   0,   0, 247, 218, 212, 210, 215, 214,   0, 254, 243,\n",
       "        139, 255, 174, 251, 255, 205,   0, 215, 217, 214, 208, 220,  95,\n",
       "          0,   0],\n",
       "       [  0,   0,   0,  45, 226, 214, 214, 215, 224, 205,   0,  42,  35,\n",
       "         60,  16,  17,  12,  13,  70,   0, 189, 216, 212, 206, 212, 156,\n",
       "          0,   0],\n",
       "       [  0,   0,   0, 164, 235, 214, 211, 220, 216, 201,  52,  71,  89,\n",
       "         94,  83,  78,  70,  76,  92,  87, 206, 207, 222, 213, 219, 208,\n",
       "          0,   0],\n",
       "       [  0,   0,   0, 106, 187, 223, 237, 248, 211, 198, 252, 250, 248,\n",
       "        245, 248, 252, 253, 250, 252, 239, 201, 212, 225, 215, 193, 113,\n",
       "          0,   0],\n",
       "       [  0,   0,   0,   0,   0,  17,  54, 159, 222, 193, 208, 192, 197,\n",
       "        200, 200, 200, 200, 201, 203, 195, 210, 165,   0,   0,   0,   0,\n",
       "          0,   0],\n",
       "       [  0,   0,   0,   0,   0,   0,   0,  47, 225, 192, 214, 203, 206,\n",
       "        204, 204, 205, 206, 204, 212, 197, 218, 107,   0,   0,   0,   0,\n",
       "          0,   0],\n",
       "       [  0,   0,   0,   0,   1,   6,   0,  46, 212, 195, 212, 202, 206,\n",
       "        205, 204, 205, 206, 204, 212, 200, 218,  91,   0,   3,   1,   0,\n",
       "          0,   0],\n",
       "       [  0,   0,   0,   0,   0,   1,   0,  11, 197, 199, 205, 202, 205,\n",
       "        206, 204, 205, 207, 204, 205, 205, 218,  77,   0,   5,   0,   0,\n",
       "          0,   0],\n",
       "       [  0,   0,   0,   0,   0,   3,   0,   2, 191, 198, 201, 205, 206,\n",
       "        205, 205, 206, 209, 206, 199, 209, 219,  74,   0,   5,   0,   0,\n",
       "          0,   0],\n",
       "       [  0,   0,   0,   0,   0,   2,   0,   0, 188, 197, 200, 207, 207,\n",
       "        204, 207, 207, 210, 208, 198, 207, 221,  72,   0,   4,   0,   0,\n",
       "          0,   0],\n",
       "       [  0,   0,   0,   0,   0,   2,   0,   0, 215, 198, 203, 206, 208,\n",
       "        205, 207, 207, 210, 208, 200, 202, 222,  75,   0,   4,   0,   0,\n",
       "          0,   0],\n",
       "       [  0,   0,   0,   0,   0,   1,   0,   0, 212, 198, 209, 206, 209,\n",
       "        206, 208, 207, 211, 206, 205, 198, 221,  80,   0,   3,   0,   0,\n",
       "          0,   0],\n",
       "       [  0,   0,   0,   0,   0,   1,   0,   0, 204, 201, 205, 208, 207,\n",
       "        205, 211, 205, 210, 210, 209, 195, 221,  96,   0,   3,   0,   0,\n",
       "          0,   0],\n",
       "       [  0,   0,   0,   0,   0,   1,   0,   0, 202, 201, 205, 209, 207,\n",
       "        205, 213, 206, 210, 209, 210, 194, 217, 105,   0,   2,   0,   0,\n",
       "          0,   0],\n",
       "       [  0,   0,   0,   0,   0,   1,   0,   0, 204, 204, 205, 208, 207,\n",
       "        205, 215, 207, 210, 208, 211, 193, 213, 115,   0,   2,   0,   0,\n",
       "          0,   0],\n",
       "       [  0,   0,   0,   0,   0,   0,   0,   0, 204, 207, 207, 208, 206,\n",
       "        206, 215, 210, 210, 207, 212, 195, 210, 118,   0,   2,   0,   0,\n",
       "          0,   0],\n",
       "       [  0,   0,   0,   0,   0,   1,   0,   0, 198, 208, 208, 208, 204,\n",
       "        207, 212, 212, 210, 207, 211, 196, 207, 121,   0,   1,   0,   0,\n",
       "          0,   0],\n",
       "       [  0,   0,   0,   0,   0,   1,   0,   0, 198, 210, 207, 208, 206,\n",
       "        209, 213, 212, 211, 207, 210, 197, 207, 124,   0,   1,   0,   0,\n",
       "          0,   0],\n",
       "       [  0,   0,   0,   0,   0,   0,   0,   0, 172, 210, 203, 201, 199,\n",
       "        204, 207, 205, 204, 201, 205, 197, 206, 127,   0,   0,   0,   0,\n",
       "          0,   0],\n",
       "       [  0,   0,   0,   0,   0,   0,   0,   0, 188, 221, 214, 234, 236,\n",
       "        238, 244, 244, 244, 240, 243, 214, 224, 162,   0,   2,   0,   0,\n",
       "          0,   0],\n",
       "       [  0,   0,   0,   0,   0,   1,   0,   0, 139, 146, 130, 135, 135,\n",
       "        137, 125, 124, 125, 121, 119, 114, 130,  76,   0,   0,   0,   0,\n",
       "          0,   0]], dtype=uint8)"
      ]
     },
     "execution_count": 4,
     "metadata": {},
     "output_type": "execute_result"
    }
   ],
   "source": [
    "print(train_images[1].shape)\n",
    "train_images[1]"
   ]
  },
  {
   "cell_type": "code",
<<<<<<< Updated upstream
   "execution_count": null,
=======
   "execution_count": 5,
>>>>>>> Stashed changes
   "metadata": {},
   "outputs": [
    {
     "data": {
      "text/plain": [
       "<matplotlib.image.AxesImage at 0x21beb3ce790>"
      ]
     },
     "execution_count": 5,
     "metadata": {},
     "output_type": "execute_result"
    },
    {
     "data": {
      "image/png": "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",
      "text/plain": [
       "<Figure size 432x288 with 1 Axes>"
      ]
     },
     "metadata": {
      "needs_background": "light"
     },
     "output_type": "display_data"
    }
   ],
   "source": [
    "plt.imshow(train_images[1], cmap=plt.cm.binary)"
   ]
  },
  {
   "cell_type": "code",
<<<<<<< Updated upstream
   "execution_count": null,
=======
   "execution_count": 6,
>>>>>>> Stashed changes
   "metadata": {},
   "outputs": [
    {
     "data": {
      "text/plain": [
       "'T-shirt/top'"
      ]
     },
     "execution_count": 6,
     "metadata": {},
     "output_type": "execute_result"
    }
   ],
   "source": [
    "label_names = [\"T-shirt/top\", \"Trouser\", \"Pullover\", \"Dress\", \"Coat\", \"Sandal\", \"Shirt\", \"Sneaker\", \"Bag\", \"Ankle boot\"]\n",
    "label_names[train_labels[1]]"
   ]
  },
  {
   "cell_type": "markdown",
   "metadata": {},
   "source": [
    "### Color to monochrome\n",
    "Normaliseren van de kleur images(0-255) naar zwart wit(0-1):"
   ]
  },
  {
   "cell_type": "code",
<<<<<<< Updated upstream
   "execution_count": null,
=======
   "execution_count": 7,
>>>>>>> Stashed changes
   "metadata": {},
   "outputs": [
    {
     "name": "stdout",
     "output_type": "stream",
     "text": [
      "0.0\n",
      "1.0\n"
     ]
    }
   ],
   "source": [
    "train_images = train_images / 255\n",
    "test_images = test_images / 255\n",
    "\n",
    "print(np.min(train_images))\n",
    "print(np.max(train_images))"
   ]
  },
  {
   "cell_type": "code",
<<<<<<< Updated upstream
   "execution_count": null,
=======
   "execution_count": 8,
>>>>>>> Stashed changes
   "metadata": {},
   "outputs": [],
   "source": [
    "model = keras.Sequential()\n",
    "\n",
    "model.add(keras.layers.Flatten(input_shape=(28,28)))\n",
    "model.add(keras.layers.Dense(128, activation=\"relu\"))\n",
    "model.add(keras.layers.Dense(10, activation=\"softmax\"))"
   ]
  },
  {
   "cell_type": "markdown",
   "metadata": {},
   "source": [
    "## Model\n",
    "### Flatten\n",
    " De eerste laag die we aanmaken heeft type Flatten met een input_shape=(28,28). Dit is de input layer en door type Flatten zorgen we ervoor dat een afbeelding die uit 28 rijen van 28 waarden om wordt gezet in één lijst van 28*28 = 784 waarden.\n",
    " \n",
    " relu” staat voor rectified linear unit."
   ]
  },
  {
   "cell_type": "code",
<<<<<<< Updated upstream
   "execution_count": null,
=======
   "execution_count": 9,
>>>>>>> Stashed changes
   "metadata": {},
   "outputs": [],
   "source": [
    "model = keras.Sequential()\n",
    "\n",
    "model.add(keras.layers.Flatten(input_shape=(28,28)))\n",
    "model.add(keras.layers.Dense(128, activation=\"relu\"))\n",
    "model.add(keras.layers.Dense(10, activation=\"softmax\"))"
   ]
  },
  {
   "cell_type": "code",
   "execution_count": null,
   "metadata": {},
   "outputs": [
    {
     "name": "stdout",
     "output_type": "stream",
     "text": [
      "Model: \"sequential_1\"\n",
      "_________________________________________________________________\n",
      "Layer (type)                 Output Shape              Param #   \n",
      "=================================================================\n",
      "flatten_1 (Flatten)          (None, 784)               0         \n",
      "_________________________________________________________________\n",
      "dense_2 (Dense)              (None, 128)               100480    \n",
      "_________________________________________________________________\n",
      "dense_3 (Dense)              (None, 10)                1290      \n",
      "=================================================================\n",
      "Total params: 101,770\n",
      "Trainable params: 101,770\n",
      "Non-trainable params: 0\n",
      "_________________________________________________________________\n"
     ]
    }
   ],
   "source": [
    "model.summary()"
   ]
  },
  {
   "cell_type": "markdown",
   "metadata": {},
   "source": [
    "### Train model"
   ]
  },
  {
   "cell_type": "code",
<<<<<<< Updated upstream
   "execution_count": null,
=======
   "execution_count": 11,
>>>>>>> Stashed changes
   "metadata": {},
   "outputs": [
    {
     "name": "stdout",
     "output_type": "stream",
     "text": [
      "Epoch 1/5\n",
      "1875/1875 [==============================] - 2s 839us/step - loss: 0.4989 - accuracy: 0.8254\n",
      "Epoch 2/5\n",
      "1875/1875 [==============================] - 1s 777us/step - loss: 0.3768 - accuracy: 0.8645\n",
      "Epoch 3/5\n",
      "1875/1875 [==============================] - 1s 700us/step - loss: 0.3423 - accuracy: 0.8763\n",
      "Epoch 4/5\n",
      "1875/1875 [==============================] - 1s 697us/step - loss: 0.3145 - accuracy: 0.8837\n",
      "Epoch 5/5\n",
      "1875/1875 [==============================] - 1s 703us/step - loss: 0.2956 - accuracy: 0.8909\n"
     ]
    },
    {
     "data": {
      "text/plain": [
       "<tensorflow.python.keras.callbacks.History at 0x21beaf2ff40>"
      ]
     },
     "execution_count": 11,
     "metadata": {},
     "output_type": "execute_result"
    }
   ],
   "source": [
    "model.compile(optimizer=\"adam\", loss=\"sparse_categorical_crossentropy\", metrics=[\"accuracy\"])\n",
    "model.fit(x=train_images, y=train_labels, epochs=5)"
   ]
  },
  {
   "cell_type": "code",
<<<<<<< Updated upstream
   "execution_count": null,
=======
   "execution_count": 12,
>>>>>>> Stashed changes
   "metadata": {},
   "outputs": [],
   "source": [
    "model.save(\"model.h5\")"
   ]
  },
  {
   "cell_type": "code",
<<<<<<< Updated upstream
   "execution_count": null,
=======
   "execution_count": 13,
>>>>>>> Stashed changes
   "metadata": {},
   "outputs": [
    {
     "data": {
      "text/plain": [
       "<tensorflow.python.keras.engine.sequential.Sequential at 0x21beb3cee80>"
      ]
     },
     "execution_count": 13,
     "metadata": {},
     "output_type": "execute_result"
    }
   ],
   "source": [
    "saved_model = keras.models.load_model(\"model.h5\")\n",
    "saved_model"
   ]
  },
  {
   "cell_type": "markdown",
   "metadata": {},
   "source": [
    "# Testing/predicting"
   ]
  },
  {
   "cell_type": "code",
<<<<<<< Updated upstream
   "execution_count": null,
=======
   "execution_count": 14,
>>>>>>> Stashed changes
   "metadata": {},
   "outputs": [
    {
     "data": {
      "text/plain": [
       "array([3.0293186e-06, 5.7631036e-07, 5.6677487e-02, 2.4282821e-07,\n",
       "       9.3865323e-01, 2.6192740e-07, 4.6636690e-03, 2.8327853e-09,\n",
       "       1.3018418e-06, 1.3857827e-07], dtype=float32)"
      ]
     },
     "execution_count": 14,
     "metadata": {},
     "output_type": "execute_result"
    }
   ],
   "source": [
    "predictions = saved_model.predict(test_images)\n",
    "predictions[10]"
   ]
  },
  {
   "cell_type": "code",
<<<<<<< Updated upstream
   "execution_count": null,
=======
   "execution_count": 15,
>>>>>>> Stashed changes
   "metadata": {},
   "outputs": [
    {
     "data": {
      "text/plain": [
       "4"
      ]
     },
     "execution_count": 15,
     "metadata": {},
     "output_type": "execute_result"
    }
   ],
   "source": [
    "np.argmax(predictions[10])"
   ]
  },
  {
   "cell_type": "code",
   "execution_count": 19,
   "metadata": {},
   "outputs": [
    {
     "data": {
      "text/plain": [
       "<matplotlib.image.AxesImage at 0x21bf7c8bb80>"
      ]
     },
     "execution_count": 19,
     "metadata": {},
     "output_type": "execute_result"
    },
    {
     "data": {
      "image/png": "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",
      "text/plain": [
       "<Figure size 432x288 with 1 Axes>"
      ]
     },
     "metadata": {
      "needs_background": "light"
     },
     "output_type": "display_data"
    }
   ],
   "source": [
    "label_names[np.argmax(predictions[10])]\n",
    "plt.imshow(test_images[10], cmap=plt.cm.binary)"
   ]
  },
  {
   "cell_type": "code",
   "execution_count": 20,
   "metadata": {},
   "outputs": [
    {
     "name": "stdout",
     "output_type": "stream",
     "text": [
      "313/313 [==============================] - 0s 524us/step - loss: 0.3708 - accuracy: 0.8695\n"
     ]
    },
    {
     "data": {
      "text/plain": [
       "[0.37078210711479187, 0.8694999814033508]"
      ]
     },
     "execution_count": 20,
     "metadata": {},
     "output_type": "execute_result"
    }
   ],
   "source": [
    "saved_model.evaluate(x=test_images, y=test_labels)"
   ]
  }
 ],
 "metadata": {
  "interpreter": {
   "hash": "eed3d826270b94bd46bf648186255016b839453b36819d31e6168b26975dcf6a"
  },
  "kernelspec": {
   "display_name": "Python 3.8.5 64-bit ('base': conda)",
   "language": "python",
   "name": "python3"
  },
  "language_info": {
   "codemirror_mode": {
    "name": "ipython",
    "version": 3
   },
   "file_extension": ".py",
   "mimetype": "text/x-python",
   "name": "python",
   "nbconvert_exporter": "python",
   "pygments_lexer": "ipython3",
   "version": "3.9.7"
  },
  "orig_nbformat": 4
 },
 "nbformat": 4,
 "nbformat_minor": 2
}
